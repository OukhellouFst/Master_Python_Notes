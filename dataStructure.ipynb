{
 "cells": [
  {
   "cell_type": "markdown",
   "id": "ddcfec58",
   "metadata": {},
   "source": [
    "# Data Structures "
   ]
  },
  {
   "cell_type": "markdown",
   "id": "ca1d9d9c",
   "metadata": {},
   "source": [
    "## 1. Tableaux "
   ]
  },
  {
   "cell_type": "markdown",
   "id": "fe574d4b",
   "metadata": {},
   "source": [
    "> Comme tous les langages, Python permet d'utiliser des \"tableaux\". On nomme ainsi tableau\n",
    "tout ensemble d'éléments de même type désigné par un identificateur unique; chaque\n",
    "élément est repéré par un \"indice\" précisant sa position au sein de l'ensemble."
   ]
  },
  {
   "cell_type": "markdown",
   "id": "bade5bea",
   "metadata": {},
   "source": [
    "#### a.  declarer 1 tableau"
   ]
  },
  {
   "cell_type": "code",
   "execution_count": null,
   "id": "94a54e8d",
   "metadata": {},
   "outputs": [],
   "source": [
    "from array import array \n",
    "tab1 = array('i') # tableau des entiers(int)\n",
    "tab2 = array('f') # tableau de reels (float)"
   ]
  },
  {
   "cell_type": "markdown",
   "id": "1b5b70aa",
   "metadata": {},
   "source": [
    "#### b. Affecter des valeurs dans des cases"
   ]
  },
  {
   "cell_type": "code",
   "execution_count": null,
   "id": "e6010f8a",
   "metadata": {
    "scrolled": true
   },
   "outputs": [],
   "source": [
    "tab1[0]=2"
   ]
  },
  {
   "cell_type": "markdown",
   "id": "247ebfe3",
   "metadata": {},
   "source": [
    "#### c. Accéder à la valeur d'une case d'un tableau"
   ]
  },
  {
   "cell_type": "code",
   "execution_count": null,
   "id": "da6c7639",
   "metadata": {},
   "outputs": [],
   "source": [
    "tab1[5]"
   ]
  },
  {
   "cell_type": "markdown",
   "id": "792d853b",
   "metadata": {},
   "source": [
    "#### d. Ajout d’un élément à la fin"
   ]
  },
  {
   "cell_type": "code",
   "execution_count": null,
   "id": "8dda9cd8",
   "metadata": {},
   "outputs": [],
   "source": [
    "tab1.append(3)"
   ]
  },
  {
   "cell_type": "markdown",
   "id": "984356ff",
   "metadata": {},
   "source": [
    "#### e. compter le nombre d’éléments"
   ]
  },
  {
   "cell_type": "code",
   "execution_count": null,
   "id": "4ac17eb5",
   "metadata": {},
   "outputs": [],
   "source": [
    "len(tab1)"
   ]
  },
  {
   "cell_type": "markdown",
   "id": "b0e29179",
   "metadata": {},
   "source": [
    "#### f. suppression"
   ]
  },
  {
   "cell_type": "code",
   "execution_count": null,
   "id": "8a90b48e",
   "metadata": {},
   "outputs": [],
   "source": [
    "del(tab1[0])"
   ]
  },
  {
   "cell_type": "markdown",
   "id": "eb6370d2",
   "metadata": {},
   "source": [
    "#### g. inverser un tableau"
   ]
  },
  {
   "cell_type": "code",
   "execution_count": null,
   "id": "961fa07c",
   "metadata": {},
   "outputs": [],
   "source": [
    "tab1.reverse()"
   ]
  },
  {
   "cell_type": "markdown",
   "id": "fc77e2fe",
   "metadata": {},
   "source": [
    "#### h. insertion dans un tableau"
   ]
  },
  {
   "cell_type": "code",
   "execution_count": null,
   "id": "a26b4288",
   "metadata": {},
   "outputs": [],
   "source": [
    "tab1.insert(0,938)\n",
    "array('i',[938,23,92])"
   ]
  },
  {
   "cell_type": "markdown",
   "id": "0949e1c4",
   "metadata": {},
   "source": [
    "#### i. Tri d’un tableau"
   ]
  },
  {
   "cell_type": "code",
   "execution_count": null,
   "id": "b538840a",
   "metadata": {},
   "outputs": [],
   "source": [
    "tab1 = sorted(tab1)"
   ]
  },
  {
   "cell_type": "markdown",
   "id": "681905c9",
   "metadata": {},
   "source": [
    "#### j. existance d'1 element "
   ]
  },
  {
   "cell_type": "code",
   "execution_count": null,
   "id": "e0f28139",
   "metadata": {},
   "outputs": [],
   "source": [
    "23 in tab1 "
   ]
  },
  {
   "cell_type": "markdown",
   "id": "5438c209",
   "metadata": {},
   "source": [
    "# 2. les chaines de caracteres  "
   ]
  },
  {
   "cell_type": "markdown",
   "id": "74dc9c12",
   "metadata": {},
   "source": [
    "#### a. declaration"
   ]
  },
  {
   "cell_type": "code",
   "execution_count": null,
   "id": "b7646bf7",
   "metadata": {},
   "outputs": [],
   "source": [
    "str1 = \"cela est une chaine de caracteres \"\n",
    "str2 = 'Cela aussi'"
   ]
  },
  {
   "cell_type": "markdown",
   "id": "0d90045e",
   "metadata": {},
   "source": [
    "#### b. acces a 1 caractere  "
   ]
  },
  {
   "cell_type": "code",
   "execution_count": null,
   "id": "05c25911",
   "metadata": {},
   "outputs": [],
   "source": [
    "str1[2]"
   ]
  },
  {
   "cell_type": "markdown",
   "id": "dec8ae7b",
   "metadata": {},
   "source": [
    "#### c. Comparaison  "
   ]
  },
  {
   "cell_type": "code",
   "execution_count": null,
   "id": "62eec2d2",
   "metadata": {},
   "outputs": [],
   "source": [
    "str1 == str2\n",
    "'chaine1' == \"chaine1\""
   ]
  },
  {
   "cell_type": "markdown",
   "id": "971e5415",
   "metadata": {},
   "source": [
    "#### d. les chaines sont immuables  "
   ]
  },
  {
   "cell_type": "code",
   "execution_count": null,
   "id": "643ccab1",
   "metadata": {},
   "outputs": [],
   "source": [
    "str1[2] = 'B' # Error "
   ]
  },
  {
   "cell_type": "markdown",
   "id": "91b0617f",
   "metadata": {},
   "source": [
    "#### e. concatenation  "
   ]
  },
  {
   "cell_type": "code",
   "execution_count": null,
   "id": "f6338093",
   "metadata": {},
   "outputs": [],
   "source": [
    "\"Bonjour to\"+'ut le monde'"
   ]
  },
  {
   "cell_type": "markdown",
   "id": "eacc630d",
   "metadata": {},
   "source": [
    "#### f. Longueur"
   ]
  },
  {
   "cell_type": "code",
   "execution_count": null,
   "id": "6391e191",
   "metadata": {},
   "outputs": [],
   "source": [
    "len('chaine2')"
   ]
  },
  {
   "cell_type": "markdown",
   "id": "fcc67df7",
   "metadata": {},
   "source": [
    "#### g. Sous-chaînes"
   ]
  },
  {
   "cell_type": "code",
   "execution_count": null,
   "id": "3666a9ba",
   "metadata": {},
   "outputs": [],
   "source": [
    "chaine = 'Bonjour a tous'\n",
    "sous_chaine1= chaine[0,7] "
   ]
  },
  {
   "cell_type": "markdown",
   "id": "aac99159",
   "metadata": {},
   "source": [
    "#### h. Existence "
   ]
  },
  {
   "cell_type": "code",
   "execution_count": null,
   "id": "5657b1c5",
   "metadata": {},
   "outputs": [],
   "source": [
    "'Bo' in 'Bonjour'"
   ]
  },
  {
   "cell_type": "markdown",
   "id": "ea0236cf",
   "metadata": {},
   "source": [
    "#### i. conversion vers des types simples "
   ]
  },
  {
   "cell_type": "code",
   "execution_count": null,
   "id": "428642e9",
   "metadata": {},
   "outputs": [],
   "source": [
    "str(29.39)\n",
    "int('92')\n",
    "float('23.3') "
   ]
  },
  {
   "cell_type": "markdown",
   "id": "ca1f0a36",
   "metadata": {},
   "source": [
    "#### j. code ASCII"
   ]
  },
  {
   "cell_type": "code",
   "execution_count": null,
   "id": "c8ca2dd0",
   "metadata": {},
   "outputs": [],
   "source": [
    "ord('A') # 65\n",
    "chr(48) #'0'"
   ]
  },
  {
   "cell_type": "markdown",
   "id": "0537e5f9",
   "metadata": {},
   "source": [
    "#### k. Quelque fonctions predifinies  "
   ]
  },
  {
   "cell_type": "code",
   "execution_count": null,
   "id": "04ac5e08",
   "metadata": {},
   "outputs": [],
   "source": [
    "chaine1=\"Bonjour tout le monde\"\n",
    "lest_chaine = chaine1.split()\n",
    "nbr_char_o = chaine1.count('o')\n",
    "endsWith_k = chaine1.endswith(\"k\")\n",
    "startsWith_B = chaine1.startswith(\"B\")\n",
    "chaine1_capitale = chaine1.upper()\n",
    "chaine1.find('tout') # indice de tout s'il existc\n",
    "chaine1.rfind('tout') # de la partie droite\n",
    "chaine1.index('tout') # indice de 'tout' (Error)\n",
    "chaine1.islower() # est ce qu'elle est minuscule \n",
    "chaine1.isupper() # .. .. .. .. majuscule \n",
    "chaine1.isdigit() # est ce qu'elle est un digit \n",
    "chaine1.isalpha() # tous est un caractere ? \n",
    "chaine1.isalnum() # alphanumerique ? \n",
    "chaine2 = chaine1.replace(' ',\"_\") # remplacer tous les espaces\n",
    "chaine1.isspace() # toute espace ? meme pr \"\\t\" => True\n",
    "chaine1.istitle() # 1er litre de chaque mot est majuscule et les autres minuscules \n",
    "\n",
    "\"##\".join([\"Master\",\"Big\",\"Data\"]) # donne: Master##Big...\n",
    "\"Bon Jour\".replace(\"Jour\",\"WeekEnd\")\n",
    "\"Line1...\\nLine2...\".splitlines() # ['Line1','Line2']\n",
    "chaine1.capitalize() # Majuscule sauf le 1er caractere \n",
    "\"\\t\".isprintable() # false (n'apparaitre pas a l'affichage)\n",
    "chaine1.isdentifier() # false (doit etre comme un cle)\n",
    "chaine1.swapcase() # minusclue => majuscule et l'inverse\n",
    "chaine1.title() # majuscule que les 1ers lettres de chaque mot\n",
    "\n",
    "chaine2 = \"Example: ß \"\n",
    "chaine2.casefold() # Aggressive lower function result :(Example: ss)\n",
    "chaine2.lower() # les lettres speciaux comme ß est deja minuscule (Example: ß)\n",
    "\n",
    "chaine1.ljust(32,\"*\") # ajout * a gauche pour completer 32 caracters en longeur.\n",
    "chaine1.lstrip() # supprime les espaces a gauche \n",
    "chaine1.partition(\"**\") #coupe la chaine par ** en incluant la chaine ** en resultat\n",
    "chaine1.rjust(32.'*') # .. a droit ... \n"
   ]
  },
  {
   "cell_type": "markdown",
   "id": "133d879e",
   "metadata": {},
   "source": [
    "## 3. Les listes "
   ]
  },
  {
   "cell_type": "markdown",
   "id": "ae10220b",
   "metadata": {},
   "source": [
    "> C’est une collection ordonnée et modifiable d’éléments éventuellement hétérogènes."
   ]
  },
  {
   "cell_type": "markdown",
   "id": "7c6976ec",
   "metadata": {},
   "source": [
    "#### a. Declaration "
   ]
  },
  {
   "cell_type": "code",
   "execution_count": null,
   "id": "304ef636",
   "metadata": {},
   "outputs": [],
   "source": [
    "liste1 = [3,\"chaine\",9.398,['bon','jour',2022]]\n"
   ]
  },
  {
   "cell_type": "markdown",
   "id": "755b1b62",
   "metadata": {},
   "source": [
    "#### b. Access aux element"
   ]
  },
  {
   "cell_type": "code",
   "execution_count": null,
   "id": "a65eeb56",
   "metadata": {},
   "outputs": [],
   "source": [
    "liste1[1]\n",
    "liste1[-2]"
   ]
  },
  {
   "cell_type": "markdown",
   "id": "cc83c325",
   "metadata": {},
   "source": [
    "#### c. Decoupage en tranche  "
   ]
  },
  {
   "cell_type": "code",
   "execution_count": null,
   "id": "c92aeee5",
   "metadata": {},
   "outputs": [],
   "source": [
    "liste1[3:5] # elements de l'indice 3 a 5 (5 non inclu)\n",
    "liste1[1:-1] # de l'element de la position 1 a l'element avant le dernier."
   ]
  },
  {
   "cell_type": "markdown",
   "id": "d770597c",
   "metadata": {},
   "source": [
    "#### d. Les listes sont modifiables "
   ]
  },
  {
   "cell_type": "code",
   "execution_count": null,
   "id": "aff20180",
   "metadata": {},
   "outputs": [],
   "source": [
    "liste[0]=17"
   ]
  },
  {
   "cell_type": "markdown",
   "id": "e6e40542",
   "metadata": {},
   "source": [
    "#### e. Les listes sont des objets  "
   ]
  },
  {
   "cell_type": "code",
   "execution_count": null,
   "id": "c02c2ea0",
   "metadata": {},
   "outputs": [],
   "source": [
    "# alors on peut appliquer des methodes sur ces objets\n",
    "liste1.sort() # Trier la liste\n",
    "liste1.append(4) # Ajouter a la fin \n",
    "liste1.append([2,39,9])\n",
    "liste1.extend([2,9])\n",
    "liste1.insert(3,99) # insere 99 a la position 3 \n",
    "liste1.reverse() # Inverser la liste\n",
    "liste1.index(4) # index de l'element 4 \n",
    "liste1.remove(4) # enlever 4 \n",
    "\n",
    "# Vous disposez encore de l'instruction integree del\n",
    "del(liste1[3]) # effacer 1 ou plusieurs element par leur index\n",
    "del(liste1[1:3])\n",
    "\n",
    "# insertion d'1 ou plusr elements n'importe ou ds la liste\n",
    "liste2 = ['obj0','obj1','obj2','obj3']\n",
    "liste2[1:1] = ['obj11','obj12'] # ajouter obj11 et obj12 entre obj1 et obj2\n",
    "liste2[1:1] = ['obj11','obj12'] # equiv : liste2 = liste2[1:]+['obj1','obj2']+liste2[1:]\n",
    "\n",
    "\n",
    "# suppression \n",
    "liste2[1:3] = [] # effacer obj 1 et 2  \n",
    "\n",
    "# liste de nombre \n",
    "liste3 = list(range(10,-10,-3)) # [10, 7, 4, 1, -2, -5, -8]"
   ]
  },
  {
   "cell_type": "markdown",
   "id": "298f6c20",
   "metadata": {},
   "source": [
    "#### f. Parcours d'une liste a l'aide de for , range() et len() "
   ]
  },
  {
   "cell_type": "code",
   "execution_count": null,
   "id": "cc557e78",
   "metadata": {},
   "outputs": [],
   "source": [
    "liste1 = ['La','raison','du','plus','fort','est','toujours','la','meilleure']\n",
    "for word in liste1: \n",
    "    print(word,end=' ')\n",
    "    \n",
    "for nbr in range(10,20,2):\n",
    "    print(nbr,nbr**2)"
   ]
  },
  {
   "cell_type": "markdown",
   "id": "ba2052ff",
   "metadata": {},
   "source": [
    "#### g. Liste en mode comprehension "
   ]
  },
  {
   "cell_type": "code",
   "execution_count": null,
   "id": "c5c6da74",
   "metadata": {},
   "outputs": [],
   "source": [
    "liste1 = [nbr**2 for nbr in range(10,20) if nbr%2==0]"
   ]
  },
  {
   "cell_type": "markdown",
   "id": "834c100b",
   "metadata": {},
   "source": [
    "#### h. operations sur les listes "
   ]
  },
  {
   "cell_type": "code",
   "execution_count": null,
   "id": "6561c1b7",
   "metadata": {},
   "outputs": [],
   "source": [
    "liste1 = ['orange','citron']\n",
    "liste2 = ['poireau','oignon','tomate']\n",
    "\n",
    "# concatenation \n",
    "liste1 + liste2\n",
    "\n",
    "# multiple l'element d'une liste \n",
    "liste1 * 2 # double chaque element de la liste 2 fois\n",
    "liste2 = [0]*8 # liste de huit 0 .\n",
    "liste3 = [0]*len(liste2)\n",
    "\n",
    "# existence \n",
    "'obj1' in liste1 \n",
    "\n",
    "# taille \n",
    "len(liste2)\n",
    "\n",
    "# index de 1ere occurence d'1 obj entre position a et b \n",
    "pos=liste1.index('obj1',0,3)\n",
    "\n",
    "# suppression : remove Vs del Vs pop \n",
    "\n",
    "# efface la premiere occurence d'une valeur. \n",
    "liste1 = [6,4,8,4,9,4,7,4,9]\n",
    "liste1.remove(4) # [6, 8, 4, 9, 4, 7, 4, 9]\n",
    "\n",
    "# efface les elements specifics a un range d'index donne .\n",
    "del(liste1[2]) # [6, 8, 9, 4, 7, 4, 9]\n",
    "\n",
    "# efface et retourne l'element supprime a un index donne \n",
    "nbr = liste1.pop() # 9 \n",
    "nbr = liste1.pop(-2) # 7 \n"
   ]
  },
  {
   "cell_type": "markdown",
   "id": "38b0dcc5",
   "metadata": {},
   "source": [
    "#### i. joindre les elements "
   ]
  },
  {
   "cell_type": "code",
   "execution_count": null,
   "id": "51c62004",
   "metadata": {},
   "outputs": [],
   "source": [
    "liste1 = [\"Bon\",\"Jour\",\"Monsieur\"]\n",
    "string1 = \"*\".join(liste1) # Bon*Jour*Monsieur"
   ]
  },
  {
   "cell_type": "markdown",
   "id": "f67338ed",
   "metadata": {},
   "source": [
    "# 3. Dictionnaire "
   ]
  },
  {
   "cell_type": "markdown",
   "id": "28069be7",
   "metadata": {},
   "source": [
    "> Les types composites (chaînes de caractères, listes et tuples) considérés jusqu’à maintenant étaient tous des séquences, On peut accéder à un élément d’une séquence à partir de sa position.\n",
    "Un dictionnaire ressemble à une liste et est modifiable mais n’est pas une séquence car les éléments enregistrés ne sont pas disposés dans un ordre immuable . On peut accéder à un élément d’un dictionnaire à partir d’une clé. Cette clé peut être une chaîne, un nombre ou même d’un type composite sous certaines conditions. On ne peut pas modifier les clés d’un dictionnaire."
   ]
  },
  {
   "cell_type": "markdown",
   "id": "2e4c8eb2",
   "metadata": {},
   "source": [
    "#### a. declaration "
   ]
  },
  {
   "cell_type": "code",
   "execution_count": null,
   "id": "43d6a1f9",
   "metadata": {},
   "outputs": [],
   "source": [
    "dict1 = {} # dic vide \n",
    "dict1[\"key1\"]=\"valeur1\" # insertion d'1 element a l'aide de paires cle-valeur\n",
    "\n",
    "# les cles acceptent que des donnees non-modifiable: entiers,reels,strings,meme les tuples\n",
    "# les cles doivent etre uniques\n",
    "dict2 = {\"key1\":\"valeur1\",\"key2\":\"valeur2\"} # 2eme façon de declaration\n",
    "dict1,dict2 = {},{1:\"valeur1\",2:299} # 3eme facon \n",
    "dict2 = {1:\"un\",'2':\"deux\",3.49:\"valeur_decimale\"}\n",
    "dict1[(0,1,2)] = 9 "
   ]
  },
  {
   "cell_type": "markdown",
   "id": "2b2032c1",
   "metadata": {},
   "source": [
    "#### b. fonction dict() "
   ]
  },
  {
   "cell_type": "code",
   "execution_count": null,
   "id": "f34395c5",
   "metadata": {},
   "outputs": [],
   "source": [
    "# fonction dict \n",
    "dict( [ [1,\"valeur1\"],[2,\"valeur2\"],[4,\"valeur_3\"] ] ) # {1:\"valeur1\",2:\"valeur2\",3:\"valeur_3\"}\n",
    "dict( [ (1,\"valeur1\"),(2,\"valeur2\"),(4,\"valeur_3\") ] )\n",
    "dict( ( (1,\"valeur1\"),(2,\"valeur2\"),(4,\"valeur_3\") ) )"
   ]
  },
  {
   "cell_type": "markdown",
   "id": "10a8025a",
   "metadata": {},
   "source": [
    "#### c. suppression  "
   ]
  },
  {
   "cell_type": "code",
   "execution_count": null,
   "id": "73fcd88f",
   "metadata": {},
   "outputs": [],
   "source": [
    "# fonction del ( enlever un element )\n",
    "del(dict1[\"key2\"])\n",
    "del(dict1) # supprime le dict1 \n",
    "\n",
    "# fonction len ( nbr d'elements de dict)\n",
    "len(dict1)\n",
    "\n",
    "# methode pop() \n",
    "dict1.pop(\"key3\") # supprime l'element de cle 3 et retourn sa valeur \n",
    "\n",
    "# methode clear() \n",
    "dict1.clear() # supprime tous les entrees\n",
    "\n"
   ]
  },
  {
   "cell_type": "markdown",
   "id": "ebf62bfb",
   "metadata": {},
   "source": [
    "#### d. renvoie la liste de type dict_keys  et dict_values"
   ]
  },
  {
   "cell_type": "code",
   "execution_count": null,
   "id": "d9edd027",
   "metadata": {},
   "outputs": [],
   "source": [
    "dictionnaire = {'key1': 'red', 'key2': 'green', 'key3': 'blue'}\n",
    "print(dictionnaire.keys()) # dict_keys(['key1', 'key2', 'key3'])\n",
    "print(dictionnaire.values()) # dict_values(['red', 'green', 'blue'])\n",
    "\n",
    "# verifier existence d'1 cle \n",
    "if 'key3' in dictionnaire : print(dictionnaire['key3'])"
   ]
  },
  {
   "cell_type": "markdown",
   "id": "ad71ade1",
   "metadata": {},
   "source": [
    "#### e. modifier un dict  "
   ]
  },
  {
   "cell_type": "code",
   "execution_count": null,
   "id": "dde1ab5b",
   "metadata": {},
   "outputs": [],
   "source": [
    "dictionnaire['key1'] = 'valeur11' \n",
    "# si la cle est deja existe => valeur va etre modifiee \n",
    "# sinon la cle va etre cree avec sa valeur ds dict "
   ]
  },
  {
   "cell_type": "markdown",
   "id": "5b1aa53c",
   "metadata": {},
   "source": [
    "#### f. fcts pr manipuler des dictionnaires  "
   ]
  },
  {
   "cell_type": "code",
   "execution_count": null,
   "id": "f62a0081",
   "metadata": {},
   "outputs": [],
   "source": [
    "D.values() # liste des valeurs de D \n",
    "D.items()  # liste equivalente de tuples a partir de D : [('computer', 'ordinateur'), ('keyboard', 'clavier')] \n",
    "D.has_key('key8') # bool\n",
    "D.copy()  # effectuer une vraie copie de D"
   ]
  },
  {
   "cell_type": "markdown",
   "id": "b088ee0a",
   "metadata": {},
   "source": [
    "# 4. Les Tuples  "
   ]
  },
  {
   "cell_type": "markdown",
   "id": "3aa678b7",
   "metadata": {},
   "source": [
    "> Vous savez qu’il n’est pas possible de changer les caractères au sein d’une chaîne existante, alors que vous pouvez modifier les éléments d’une liste. Un tuple est une collection d’éléments à l’intérieur de parenthèses séparés par des virgules semblable à une liste mais il n’est pas modifiable. Un tuple peut représenter une clé de dictionnaire ce qu’une liste ne peut faire. Les tuples sont préférables aux listes partout où l’on veut être certain que les données transmises ne soient pas modifiées par erreur."
   ]
  },
  {
   "cell_type": "markdown",
   "id": "5ac7c139",
   "metadata": {},
   "source": [
    "#### a. declaration"
   ]
  },
  {
   "cell_type": "code",
   "execution_count": null,
   "id": "05c58af4",
   "metadata": {},
   "outputs": [],
   "source": [
    "tup1 = (\"printemps\",\"ete\",\"automne\",\"hiver\")\n",
    "tup2 = 'abc',1,3\n",
    "tup3 = (\"obj1\",) # il faut au moins une (,)\n",
    "tup1[1:3] # ('ete','automne')"
   ]
  },
  {
   "cell_type": "markdown",
   "id": "f9df6f68",
   "metadata": {},
   "source": [
    "#### b. access  "
   ]
  },
  {
   "cell_type": "code",
   "execution_count": null,
   "id": "8a674133",
   "metadata": {},
   "outputs": [],
   "source": [
    "tup1[2] = \"saison3\" # error ( tuples sont non-modifialbe)\n",
    "tup2 = () # tuple vide \n",
    "tup3 = tuple(\"chaine\") # ('c','h','a'...)"
   ]
  },
  {
   "cell_type": "markdown",
   "id": "8ec1dffd",
   "metadata": {},
   "source": [
    "#### c. modification ( n'est pas possible directement ) "
   ]
  },
  {
   "cell_type": "code",
   "execution_count": null,
   "id": "aa6e7e89",
   "metadata": {},
   "outputs": [],
   "source": [
    "tup1 = tup1[:2]+(\"saison2\")+tup1[2:]\n",
    "\n",
    "# modification des elements modifiable stockes en tuple \n",
    "tup2 = (1,2,[0,1,2])\n",
    "tup2[2][1] = 3 # (1,2,[0,3,2])"
   ]
  },
  {
   "cell_type": "markdown",
   "id": "40a592a5",
   "metadata": {},
   "source": [
    "#### d. suppression ( n'est pas possible directement )  "
   ]
  },
  {
   "cell_type": "code",
   "execution_count": null,
   "id": "7edbc49f",
   "metadata": {},
   "outputs": [],
   "source": [
    "tup1 = tup1[:3]+tup[4:] # supprime l'element 3 \n",
    "del(tup1) # suppression de tup1 entierement \n",
    "\n",
    "# les methodes :\n",
    "## tri\n",
    "## remplacement \n",
    "# insertion ... ne sont pas implementees"
   ]
  },
  {
   "cell_type": "markdown",
   "id": "c7f4ad72",
   "metadata": {},
   "source": [
    "#### e. fonctions list() et tuple()  "
   ]
  },
  {
   "cell_type": "code",
   "execution_count": null,
   "id": "b04de305",
   "metadata": {},
   "outputs": [],
   "source": [
    "list( (1,2,3) ) # convertir un tuple en liste \n",
    "tuple( [1,2,3] ) # convertir une liste en tuple "
   ]
  },
  {
   "cell_type": "markdown",
   "id": "6b1d75fc",
   "metadata": {},
   "source": [
    "# 5. Ensembles (set)"
   ]
  },
  {
   "cell_type": "markdown",
   "id": "4f6ca1a4",
   "metadata": {},
   "source": [
    "> Ce sont des ensembles non ordonnés de valeurs distinctes. Ces valeurs peuvent être de différents types. Les tests d’appartenance de même que les opérations d’union et d’intersection fonctionnent comme attendu en Python. Il est possible de tester l’appartenance à un ensemble à l’aide des opérateurs **in** et **not in**, d’obtenir le cardinal d’un ensemble à l’aide de la fonction intégrée **len()** et de parcourir les éléments d’un ensemble à l’aide de boucles. Puisque les ensembles ne sont pas ordonnés, il n’est pas possible d’utiliser un indice ni de sélectionner une tranche, et il n’existe pas de clé permettant d’accéder aux valeurs."
   ]
  },
  {
   "cell_type": "markdown",
   "id": "658f347c",
   "metadata": {},
   "source": [
    "> il exist 2 types d'ensembles : \n",
    ">* **set**: On peut ajouter ou supprimer des éléments à ce type d’ensemble; par conséquent, ils ne peuvent être utilisés comme clés de dictionnaire\n",
    ">* **frozenset** : On ne peut ajouter ou supprimer des éléments à ce type d’ensemble; par contre, ils peuvent être utilisés comme clés de dictionnaire ou comme membres d’un autre ensemble."
   ]
  },
  {
   "cell_type": "markdown",
   "id": "1575ee99",
   "metadata": {},
   "source": [
    "#### a. creation ( 2 methodes possibles )  "
   ]
  },
  {
   "cell_type": "code",
   "execution_count": null,
   "id": "89ee6da0",
   "metadata": {},
   "outputs": [],
   "source": [
    "# pas de syntaxe particuliere comme listes ,...\n",
    "set0 = set() # ensemble vide \n",
    "set1 = set(\"obj1\")\n",
    "set2 = set(['obj1','obj2','obj3'])\n",
    "len(set1)\n",
    "type(set1)\n",
    "fset1 = frozenset(\"obj1\")\n",
    "\n",
    "# examples \n",
    "# set([(0, 'a'), (2, 'i'), (1, 'e'), (5, 'y'), (4, 'u'), (3, 'o')])\n",
    "set1 = set({0:\"a\", 1:\"e\", 2:\"i\", 3:\"o\", 4:\"u\", 5:\"y\"}.items())\n",
    "# set([0, 1, 2, 3, 4, 5])\n",
    "set2 = set({0:\"a\", 1:\"e\", 2:\"i\", 3:\"o\", 4:\"u\", 5:\"y\"}.keys())"
   ]
  },
  {
   "cell_type": "markdown",
   "id": "a8498b85",
   "metadata": {},
   "source": [
    "#### b. modification  (2 facons )"
   ]
  },
  {
   "cell_type": "code",
   "execution_count": null,
   "id": "c5af06b4",
   "metadata": {},
   "outputs": [],
   "source": [
    "# 1ere facon \n",
    "set1 = set(\"smail\")\n",
    "set1.add(\"l\") # set(['s','m','a','i','l','l'])\n",
    "\n",
    "# 2eme facon\n",
    "set1 = set(\"smail\")\n",
    "set1 = set1.update(\"1234\") # set(['m','1','i','4','3','s','l','2'])\n",
    "set1 = set1.update(range(5))\n",
    "set1 = set1.update([1,2,3,4])\n",
    "\n",
    "# 3eme facon (remove) et (discard) et (pop)\n",
    "set1.remove(11) # error s'il n'exist pas \n",
    "set1.discard(4) # enleve l'element s'il exist \n",
    "set1.pop() # enleve elem quelconque\n",
    "\n",
    "# 4eme facon (-=)\n",
    "set1 -= set([3,2,4])"
   ]
  },
  {
   "cell_type": "markdown",
   "id": "1701eaf5",
   "metadata": {},
   "source": [
    "#### c. suppression "
   ]
  },
  {
   "cell_type": "code",
   "execution_count": null,
   "id": "106db07b",
   "metadata": {},
   "outputs": [],
   "source": [
    "del(set1)"
   ]
  },
  {
   "cell_type": "markdown",
   "id": "7749a790",
   "metadata": {},
   "source": [
    "#### d. operateurs  "
   ]
  },
  {
   "cell_type": "code",
   "execution_count": null,
   "id": "bb4346ad",
   "metadata": {},
   "outputs": [],
   "source": [
    "# appartenance (in ,not in)\n",
    "set1 = set([\"bon\",\"jour\"])\n",
    "\"jour\" in set1 \n",
    "\n",
    "#egalite/inegalite d'ensembles\n",
    "set1 = set(range(5,10))\n",
    "fset1 = frozenset(range(5,10))\n",
    "set1 == fset1 # true \n",
    "\n",
    "# ( sous-ensemble de ) ou (sur-ensemlbe de ) \n",
    "set1 < set2 # est ce que set1 est sous-ensemble de set2 \n",
    "set1 > set2 # ..  ..  ..  ..  ..  sur-ensemble .. .. \n",
    "set1 <= set2 # sous-ensemble + peuvent etre egaux \n",
    "set1 >= set2 \n",
    "\n",
    "# Union (|)\n",
    "set1 | set2 \n",
    "set1.union(set2)\n",
    "\n",
    "# intersection (&)\n",
    "set1 & set2 \n",
    "set1.intersection(set2)\n",
    "\n",
    "# difference ou complement relatif(-)\n",
    "set1 - set2 \n",
    "set1.difference(set2) \n",
    "\n",
    "# diffrence symetrique (^)\n",
    "set1 ^ set2\n",
    "set1.symmetric_difference(set2)\n"
   ]
  },
  {
   "cell_type": "markdown",
   "id": "2151b35f",
   "metadata": {},
   "source": [
    "#### e. operateurs sauf pr set() "
   ]
  },
  {
   "cell_type": "code",
   "execution_count": null,
   "id": "11b87dd9",
   "metadata": {},
   "outputs": [],
   "source": [
    "# ajoute 1 ou plusr elements a un set \n",
    "set1 |= set2 \n",
    "set1.update(set2)\n",
    "\n",
    "# conserve que les elements existenet ds les 2 sets\n",
    "set1 &= set2 \n",
    "set1.intersection_update(set2)\n",
    "\n",
    "# conserve que les elements existent ds set1 \n",
    "set1 -= set2 \n",
    "set1.difference_update(set2)\n",
    "\n",
    "# la difference symmetrique \n",
    "set1 ^= set2 \n",
    "set1.symmetric_difference_update(set2) \n"
   ]
  },
  {
   "cell_type": "markdown",
   "id": "87896497",
   "metadata": {},
   "source": [
    "#### f. fonctions integrees  "
   ]
  },
  {
   "cell_type": "code",
   "execution_count": null,
   "id": "c683f9c1",
   "metadata": {},
   "outputs": [],
   "source": [
    "len(set1)\n",
    "set11 = set1.copy()"
   ]
  }
 ],
 "metadata": {
  "kernelspec": {
   "display_name": "Python 3 (ipykernel)",
   "language": "python",
   "name": "python3"
  },
  "language_info": {
   "codemirror_mode": {
    "name": "ipython",
    "version": 3
   },
   "file_extension": ".py",
   "mimetype": "text/x-python",
   "name": "python",
   "nbconvert_exporter": "python",
   "pygments_lexer": "ipython3",
   "version": "3.9.12"
  }
 },
 "nbformat": 4,
 "nbformat_minor": 5
}
