{
 "cells": [
  {
   "cell_type": "markdown",
   "id": "dbd1ab62",
   "metadata": {},
   "source": [
    "# 1. Fichiers"
   ]
  },
  {
   "cell_type": "code",
   "execution_count": null,
   "id": "b4c10efc",
   "metadata": {},
   "outputs": [],
   "source": [
    "# Le module os renferme plusieurs fonctions permettant\n",
    "# de dialoguer avec le système d’exploitation.\n",
    "import os ,io\n",
    "os.chdir(\"D:\\\\Awesome_Learning_Folder\\\\study\")\n",
    "cwd = os.getcwd() \n",
    "print(cwd)"
   ]
  },
  {
   "cell_type": "code",
   "execution_count": null,
   "id": "8885e74d",
   "metadata": {},
   "outputs": [],
   "source": [
    "# ouverture d'1 fichier en ecriture sequentielle \n",
    "fichierLogique = io.open(\"D:\\\\Awesome_Learning_Folder\\\\study\\\\test.txt\",\"a\")\n",
    "fichierLogique.write(\"si le fichier n'exist pas , il sera cree autom\")\n",
    "fichierLogique.close() "
   ]
  },
  {
   "cell_type": "code",
   "execution_count": null,
   "id": "39a3b637",
   "metadata": {},
   "outputs": [],
   "source": [
    "# Affichage à l’écran du contenu d’un fichier.\n",
    "fichierLogique = io.open(\"D:\\\\Awesome_Learning_Folder\\\\study\\\\test.txt\",\"r\")\n",
    "contenu = fichierLogique.read(15) # 15 elements\n",
    "print(contenu)\n",
    "fichierLogique.close()"
   ]
  },
  {
   "cell_type": "code",
   "execution_count": null,
   "id": "4811407b",
   "metadata": {},
   "outputs": [],
   "source": [
    "# copie d'un fichier dans un autre , 10 caracteres a la fois \n",
    "\n",
    "def CopieDeFichier(fichierSource,fichierDestination):\n",
    "    source = io.open(fichierSource,\"r\")\n",
    "    destination = io.open(fichierDestination,\"w\")\n",
    "    while 1:\n",
    "        text = source.read(10)\n",
    "        if text == \"\":\n",
    "            break\n",
    "        destination.write(text)\n",
    "    source.close()\n",
    "    destination.close()\n",
    "\n",
    "CopieDeFichier(\"D:\\\\Awesome_Learning_Folder\\\\study\\\\test.txt\",\"D:\\\\Awesome_Learning_Folder\\\\study\\\\test1.txt\")"
   ]
  },
  {
   "cell_type": "code",
   "execution_count": null,
   "id": "60ba6404",
   "metadata": {},
   "outputs": [],
   "source": [
    "# position actuelle de cursor \n",
    "fichierLogique.tell()\n",
    "\n",
    "# positionner sur la nieme caractere de la tete de ficheir \n",
    "fichierLogique.fseek(n,0)"
   ]
  },
  {
   "cell_type": "code",
   "execution_count": null,
   "id": "cf25ab14",
   "metadata": {},
   "outputs": [],
   "source": [
    "# insertion de marqueurs de fin de ligne ds un fichier \n",
    "F = io.open(\"D:\\\\Awesome_Learning_Folder\\\\study\\\\test.txt\",\"w\")\n",
    "F.write(\"Nous pouvons insérer un marqueur de fin de lignes\\n\")\n",
    "F.write(\"aux endroits où l’on souhaite séparer les lignes du texte.\\n\\n\")\n",
    "F.write(\"Lors des opérations de lecture, les lignes d’un fichier texte \")\n",
    "F.write(\"peuvent être extraites séparément les unes des autres. La\\n\")\n",
    "F.write(\"méthode readline() ne lit qu’une seule ligne à la fois\\n\")\n",
    "F.write(\"(en incluant le caractère de fin de ligne).\")\n",
    "F.close()\n",
    "F = io.open(\"D:\\\\Awesome_Learning_Folder\\\\study\\\\test.txt\",\"r\")\n",
    "print(F.readline())\n",
    "print(\"/n/n\",F.readlines())"
   ]
  },
  {
   "cell_type": "markdown",
   "id": "f3402aa4",
   "metadata": {},
   "source": [
    "# 2. Gestion des exceptions "
   ]
  },
  {
   "cell_type": "code",
   "execution_count": null,
   "id": "b622ea35",
   "metadata": {},
   "outputs": [],
   "source": [
    "L = []\n",
    "def Ajouter(L):\n",
    "    try:\n",
    "        x =int(input(\"Entrer un entier\"))\n",
    "        L.append(x)\n",
    "    except ValueError:\n",
    "        print(\"Vous devez entrer un entier\")\n",
    "        pass \n",
    "\n",
    "    \n",
    "def LectureFichier():\n",
    "    try: \n",
    "        f = io.open(\"D:\\\\text.txt\",\"r\")\n",
    "        print(f.read())\n",
    "    except IOError:\n",
    "        print(\"Verifier le chemin d'acces\")\n",
    "        pass\n",
    "\n",
    "def f(a,b):\n",
    "    try:\n",
    "        f=a/b \n",
    "        print(f)\n",
    "    except ZeroDivisionError:\n",
    "        print(\"division par zero\")\n",
    "        pass \n",
    "    \n",
    "def modifier(L,i,x):\n",
    "    try:\n",
    "        L[i]=x\n",
    "    except IndexError:\n",
    "        print(\"indice incorrect\")\n",
    "        pass "
   ]
  },
  {
   "cell_type": "markdown",
   "id": "dbb9c7b6",
   "metadata": {},
   "source": [
    "# 3. Bibliotheques mathematiques "
   ]
  },
  {
   "cell_type": "code",
   "execution_count": null,
   "id": "d1ba9b7b",
   "metadata": {},
   "outputs": [],
   "source": [
    "import numpy as np \n",
    "T = np.array([1,2,3])\n",
    "M = np.array([[1,2,3],[4,5,6]])\n",
    "\n",
    "M.trace() # sum of diagonal \n",
    "M.transpose() # Transpose de la matrice \n",
    "\n",
    "#range(1,3,0.5) # error no float step \n",
    "np.arange(1,3,0.5)\n",
    "np.linspace(1,3,8) # cree un tableau de 8 elements separes de la m distance\n",
    "# equ np.arange(a,b,(a-b)/(n-1))\n",
    "\n",
    "list(np.arange(1,8+0.5,0.5))\n",
    "\n",
    "np.zeros(8)\n",
    "np.ones((3,4))\n",
    "M2 = np.zeros_like(M)\n",
    "M2 = np.ones_like(M)\n",
    "\n",
    "T1 = np.random.rand(4) # 1-d tableau de 4 elements aleatoires \n",
    "T2 = np.random.rand(3,3) # matrice\n",
    "T3 = np.random.randint(0,9,5) # 1-d tableau de 5 elements \n",
    "T4 = np.random.randint(0,9,(3,3))\n",
    "I1 = np.eye(3) # matrie d'identite\n",
    "dia = np.diag(T4,k=-1)\n",
    "nbr = T4.ndim\n",
    "print(size_of_each_dim)\n",
    "T4.dtype # dtype('float64')\n",
    "\n",
    "size_of_each_dim = T4.shape # (3, 3)\n",
    "M = np.reshape(T4,(9,1))\n",
    "\n",
    "M = np.random.randint(0,10,(4,4))\n",
    "N = np.random.randint(0,20,(4,4))\n",
    "M.dot(N)\n",
    "\n",
    "M = np.random.randint(0,10,(3,3))\n",
    "N = np.random.randint(0,10,(3,3))\n",
    "np.outer(M,N)\n",
    "\n",
    "np.concatenate((M,N),axis=0)\n",
    "np.concatenate((M,N),axis=1)\n",
    "\n",
    "M = np.array( ( (2,3),(-1,-2) ) )\n",
    "print(np.linalg.det(M))"
   ]
  },
  {
   "cell_type": "markdown",
   "id": "313231bd",
   "metadata": {},
   "source": [
    "**Resoudre une equation algebrique**"
   ]
  },
  {
   "cell_type": "code",
   "execution_count": null,
   "id": "12f1feb3",
   "metadata": {},
   "outputs": [],
   "source": [
    "from numpy import * \n",
    "A = array( [ [3,-1,1],[4,-6,-4],[13,-1,-1] ] )\n",
    "B = array( [ [4],[19],[8] ])\n",
    "solution = linalg.solve(A,B)\n",
    "print(solution)\n",
    "\n",
    "print(A.dot(solution)==B)"
   ]
  },
  {
   "cell_type": "markdown",
   "id": "90b2301a",
   "metadata": {},
   "source": [
    "**Tracer un graphe**"
   ]
  },
  {
   "cell_type": "code",
   "execution_count": null,
   "id": "2a8cd7be",
   "metadata": {},
   "outputs": [],
   "source": [
    "from matplotlib.pyplot import * \n",
    "from numpy import * \n",
    "\n",
    "# fonction 1\n",
    "def g(x):\n",
    "    return sin(x)*x**2\n",
    "# fonction 2 \n",
    "def f(x):\n",
    "    return x**2\n",
    "\n",
    "t = arange(0,10,0.1)\n",
    "Y1= g(t) # image de t en utilisant fct 1 \n",
    "Y2= f(t) # image de t en ..  ..   .. 2 \n",
    "plot(t,Y1,'r')\n",
    "plot(t,Y2,'g')\n",
    "\n",
    "xlabel(\"temps(s)\")\n",
    "ylabel(\"y(temps)\")\n",
    "\n",
    "title(\"Graphe\")\n",
    "legend(('x->sin(x)*x**2','x->x**2'))\n",
    "\n",
    "show()"
   ]
  },
  {
   "cell_type": "markdown",
   "id": "bd0ad463",
   "metadata": {},
   "source": [
    "**les references partagees et le module copy**"
   ]
  },
  {
   "cell_type": "code",
   "execution_count": null,
   "id": "3bc82e5b",
   "metadata": {},
   "outputs": [],
   "source": [
    "# cela ne fait que cree un alias a notre liste \n",
    "liste1 = [1,2,[\"ahmed\",\"khalid\"]]\n",
    "alias_liste1 = liste1\n",
    "\n",
    "# faire une shallow copy avec list() et liste[:]\n",
    "liste1 = [1,2,[\"ahmed\",\"khalid\"]]\n",
    "liste1_shallow = list(liste1) # problem avec les obj imbriques \n",
    "liste_shallow = liste1[:] # meme pb \n",
    "\n",
    "# solution de ce pb : Module copy \n",
    "# fonctionne avec tous les types mutables\n",
    "# permet de faire 2 sortes de copies (shallow copy) et (deep copy)\n",
    "import copy \n",
    "list1 = [1,2,[\"ahmed\",\"khalid\"]]\n",
    "list1_shallow = copy.copy(list1) # shallow copy\n",
    "list1_copy = copy.deepcopy(list1) # copy (sol de pb)\n",
    "\n",
    "# ce module fonctionne parfaitement avec les autres elements \n",
    "# mutables comme les dictionnaires , les tuples (a,b,[1,3]) , les ensembles set()\n",
    "\n",
    "# pas neccessaire pr : str() , int() , float () \n",
    "# l'affection va creer un nouvel objet qui aura sa propre reference \n"
   ]
  },
  {
   "cell_type": "markdown",
   "id": "129d32f4",
   "metadata": {},
   "source": [
    "# 4. Bases de donnees  "
   ]
  },
  {
   "cell_type": "markdown",
   "id": "baeb4797",
   "metadata": {},
   "source": [
    "#### a. Connexion  "
   ]
  },
  {
   "cell_type": "code",
   "execution_count": null,
   "id": "c6fb8b27",
   "metadata": {},
   "outputs": [],
   "source": [
    "import sqllite3 \n",
    "\n",
    "fichierDonnees = \"D:/exemple.sqlite\" # attention !! utiliser / a la place de \\ \n",
    "conn = sqllite3.connect(fichierDonnees)\n",
    "\n",
    "cur  = conn.cursor()\n",
    "cur.execute(\"INSERT INTO fournisseur (numero_fr,nom_fr,ville_fr) VALUES (33,'smail','paris')\")\n",
    "cur.execute(\"SELECT * FROM fournisseur \")\n",
    "\n",
    "TableFournisseur = cur.fetchall() # ou : list(cur)\n",
    "cur.execute(\"DELETE FROM fournisseur WHERE numero_fr=61\")\n",
    "\n",
    "conn.commit() # conn.rollback()\n",
    "cur.close()\n",
    "conn.close()"
   ]
  },
  {
   "cell_type": "markdown",
   "id": "b3b8b35b",
   "metadata": {},
   "source": [
    "#### b. les operations de lecture d'une BDD "
   ]
  },
  {
   "cell_type": "markdown",
   "id": "4b8c519e",
   "metadata": {},
   "source": [
    ">  Il récupère la ligne suivante d'un ensemble de\n",
    "résultats de requête. Un ensemble de résultats est un objet renvoyé lorsqu'un objet curseur est utilisé pour interroger une table."
   ]
  },
  {
   "cell_type": "code",
   "execution_count": null,
   "id": "9e8ee0ad",
   "metadata": {},
   "outputs": [],
   "source": [
    "cur.fetchone()"
   ]
  },
  {
   "cell_type": "markdown",
   "id": "54ba3e2a",
   "metadata": {},
   "source": [
    "> Il récupère toutes les lignes d'un jeu de résultats. Si certaines lignes ont déjà été extraites du jeu de résultats, elles récupèrent les lignes restantes du jeu de résultats."
   ]
  },
  {
   "cell_type": "raw",
   "id": "ccb05687",
   "metadata": {},
   "source": [
    "cur.fetchall() "
   ]
  },
  {
   "cell_type": "markdown",
   "id": "78f243d7",
   "metadata": {},
   "source": [
    "> Il s'agit d'un attribut en lecture seule et renvoie le nombre de lignes affectées par une méthode execute ()."
   ]
  },
  {
   "cell_type": "code",
   "execution_count": null,
   "id": "8cf09810",
   "metadata": {},
   "outputs": [],
   "source": [
    "cur.rowcount() # correcte pr insert/update/delete \n",
    "# retourne -1 pr select "
   ]
  },
  {
   "cell_type": "markdown",
   "id": "47fe5599",
   "metadata": {},
   "source": [
    "# 5. OOP  "
   ]
  },
  {
   "cell_type": "code",
   "execution_count": null,
   "id": "0b7bcabc",
   "metadata": {},
   "outputs": [],
   "source": [
    "# partie 1\n",
    "# definition de la classe compte \n",
    "class compte:\n",
    "    \n",
    "    nbrDecomptes = 0 # att statique ou de classe \n",
    "    \n",
    "    #def de constructeur \n",
    "    def __init__(self,soldeInitial,nomClient,numCompteClient,adressCli=\"tanger\"):\n",
    "        print(\"je suis le constructeur\")\n",
    "        self.__solde = soldeInitial # attr prive d'instance \n",
    "        self.__nom = nomClient\n",
    "        self.numCompte = numCompteClient # attr publique d'instance \n",
    "        self.__class__.nbrDecomptes+=1 # attr statique \n",
    "        self.adresse = adressCli\n",
    "    \n",
    "    # methode Getter \n",
    "    def GetSold(self):\n",
    "        return self.__solde\n",
    "    \n",
    "    # def de destructeur \n",
    "    def __del__(self):\n",
    "        print(\"je suis le destructeur\")\n",
    "        self.__class__.nbrDecomptes -= 1\n",
    "    \n",
    "    # afficher \n",
    "    def afficher(self):\n",
    "        print(\"le client , Mr/Mme/Mlle \",self.__nom,\"a:\",self.__solde,end=' ')\n",
    "        print(\"dans le compte: \",self.numCompte)\n",
    "        \n",
    "    # nbr de compte \n",
    "    def afficherNombreDeComptes(cls): # methode de classe/statique\n",
    "        print(\"Actuellement, il y a \",__class__.nbrDecomptes,\" comptes cres..\")\n",
    "    \n",
    "    def NouveauSolde(self,valeurSolde):\n",
    "        self.__solde = float(valeurSolde)\n",
    "        \n",
    "    def SoldeClient(self):\n",
    "        return self.__solde\n",
    "    \n",
    "    def AjouterDansCompte(self,somme):\n",
    "        self.__solde += somme\n",
    "    \n",
    "    def Debit(self,somme): \n",
    "        self.__solde -= somme\n",
    "        \n",
    "    # surcharge l'oper + \n",
    "    def __add__(self,somme):\n",
    "        self.__solde += somme \n",
    "    \n",
    "    # surcharge de l'oper - \n",
    "    def __sub__(self,somme):\n",
    "        self.__solde -= somme \n",
    "    \n",
    "    # surcharge de l'oper * \n",
    "    def __mul__(self,m):\n",
    "        self.__solde *= m \n",
    "    \n",
    "    # toString \n",
    "    def __str__(self):\n",
    "        X= \"le client , Mr/Mme/Mlle\"+self.__nom+\" a: \"+str(self.__solde)\n",
    "        X+= \"dans le compte : \" + str(self.numCompte)\n",
    "        return X \n",
    "\n",
    "if __name__ == '__main__': \n",
    "    y = compte(100,'smail','299292')\n",
    "    y.afficher()\n",
    "    print(y)\n",
    "    y+20\n",
    "    compte.afficherNombreDeComptes(compte)"
   ]
  },
  {
   "cell_type": "code",
   "execution_count": 3,
   "id": "336b8144",
   "metadata": {},
   "outputs": [
    {
     "name": "stdout",
     "output_type": "stream",
     "text": [
      "Bonjour , je suis smail\n",
      "Mon id est : 1\n",
      "Mon mot de passe est : 1234\n",
      "++++++++++++++++++++++++++++++++++++++++++++\n",
      "mot de passe plus securise !\n"
     ]
    }
   ],
   "source": [
    "class User:\n",
    "    pass\n",
    "\n",
    "def test1():\n",
    "    Amine = User()\n",
    "    ## definition d'attributs pr cet objet\n",
    "    Amine.id = 1 \n",
    "    Amine.name = 'smail'\n",
    "    Amine.password = \"1234\"\n",
    "    Amine.__password = 'azerty'\n",
    "    Amine.solde = 10_000\n",
    "    print(\"Bonjour , je suis \"+Amine.name)\n",
    "    print(\"Mon id est : \"+str(Amine.id))\n",
    "    print(\"Mon mot de passe est : \"+str(Amine.password))\n",
    "    print(\"++++++++++++++++++++++++++++++++++++++++++++\")\n",
    "    Amine.password = \"mot de passe plus securise !\"\n",
    "    print(Amine.password)\n",
    "    del(Amine.password)\n",
    "    Amine.passowrd = \"Nouveau mot de passe\"\n",
    "    del(Amine.__password)\n",
    "    Amine.__passord = \"meme avec attr prive ! \"\n",
    "test1()"
   ]
  },
  {
   "cell_type": "code",
   "execution_count": 6,
   "id": "8b64a22d",
   "metadata": {},
   "outputs": [
    {
     "name": "stdout",
     "output_type": "stream",
     "text": [
      "\n",
      " Call showInfo method : \n",
      "I'im Tom\n",
      " age 3\n"
     ]
    }
   ],
   "source": [
    "class Animal : \n",
    "    def __init__(self,name):\n",
    "        self.name = name\n",
    "    def showInfo(self):\n",
    "        print(\"I'm \"+self.name)\n",
    "        \n",
    "class Cat(Animal):\n",
    "    def __init__(self,name,age):\n",
    "        super().__init__(name)\n",
    "        self.age = age\n",
    "    \n",
    "    def showInfo(self):\n",
    "        print(\"I'im \"+self.name)\n",
    "        print(\" age \" + str(self.age))\n",
    "\n",
    "tom = Cat(\"Tom\",3)\n",
    "print(\"\\n\",\"Call showInfo method : \")\n",
    "tom.showInfo()"
   ]
  },
  {
   "cell_type": "markdown",
   "id": "9dbfb74d",
   "metadata": {},
   "source": [
    "# 6. Pandas "
   ]
  },
  {
   "cell_type": "code",
   "execution_count": 12,
   "id": "4d3cdfd2",
   "metadata": {},
   "outputs": [
    {
     "name": "stdout",
     "output_type": "stream",
     "text": [
      "<class 'pandas.core.frame.DataFrame'>\n",
      "Index: 3 entries, a1 to a3\n",
      "Data columns (total 4 columns):\n",
      " #   Column  Non-Null Count  Dtype  \n",
      "---  ------  --------------  -----  \n",
      " 0   A       3 non-null      float64\n",
      " 1   B       3 non-null      float64\n",
      " 2   C       3 non-null      float64\n",
      " 3   D       3 non-null      float64\n",
      "dtypes: float64(4)\n",
      "memory usage: 120.0+ bytes\n"
     ]
    },
    {
     "data": {
      "text/html": [
       "<div>\n",
       "<style scoped>\n",
       "    .dataframe tbody tr th:only-of-type {\n",
       "        vertical-align: middle;\n",
       "    }\n",
       "\n",
       "    .dataframe tbody tr th {\n",
       "        vertical-align: top;\n",
       "    }\n",
       "\n",
       "    .dataframe thead th {\n",
       "        text-align: right;\n",
       "    }\n",
       "</style>\n",
       "<table border=\"1\" class=\"dataframe\">\n",
       "  <thead>\n",
       "    <tr style=\"text-align: right;\">\n",
       "      <th></th>\n",
       "      <th>A</th>\n",
       "      <th>B</th>\n",
       "      <th>C</th>\n",
       "      <th>D</th>\n",
       "    </tr>\n",
       "  </thead>\n",
       "  <tbody>\n",
       "    <tr>\n",
       "      <th>a1</th>\n",
       "      <td>1.1</td>\n",
       "      <td>2.0</td>\n",
       "      <td>3.3</td>\n",
       "      <td>4.0</td>\n",
       "    </tr>\n",
       "    <tr>\n",
       "      <th>a2</th>\n",
       "      <td>2.7</td>\n",
       "      <td>10.0</td>\n",
       "      <td>5.4</td>\n",
       "      <td>7.0</td>\n",
       "    </tr>\n",
       "    <tr>\n",
       "      <th>a3</th>\n",
       "      <td>5.3</td>\n",
       "      <td>9.0</td>\n",
       "      <td>1.5</td>\n",
       "      <td>15.0</td>\n",
       "    </tr>\n",
       "  </tbody>\n",
       "</table>\n",
       "</div>"
      ],
      "text/plain": [
       "      A     B    C     D\n",
       "a1  1.1   2.0  3.3   4.0\n",
       "a2  2.7  10.0  5.4   7.0\n",
       "a3  5.3   9.0  1.5  15.0"
      ]
     },
     "execution_count": 12,
     "metadata": {},
     "output_type": "execute_result"
    }
   ],
   "source": [
    "import numpy \n",
    "import pandas \n",
    "ar = numpy.array([[1.1,2,3.3,4],[2.7,10,5.4,7],[5.3,9,1.5,15]])\n",
    "df1 = pandas.DataFrame(ar,index=['a1','a2','a3'],columns=['A','B','C','D'])\n",
    "df1.info()\n",
    "df1.head()"
   ]
  },
  {
   "cell_type": "markdown",
   "id": "943d2c0c",
   "metadata": {},
   "source": [
    "# 7. Application de Machine Learning sur la reconnaissance des nombres manuscrits "
   ]
  },
  {
   "cell_type": "code",
   "execution_count": null,
   "id": "4f952f89",
   "metadata": {},
   "outputs": [],
   "source": [
    "import numpy as np\n",
    "import matplotlib.pyplot as plt\n",
    "import pandas, os\n",
    "from sklearn.tree import DecisionTreeClassifier\n",
    "\n",
    "os.chdir(\"C:\\________________ML ESTEM\\__cours et TPS\\\\TP 1\")\n",
    "data=pandas.read_csv(\"images_chiffres_codees_niveau_de_gris.csv\").as_matrix()\n",
    "data=data.iloc[:,:] \n",
    "\n",
    "clf=DecisionTreeClassifier()\n",
    "\n",
    "# prendre que les lignes de 0->21000 et tous les colonnes sauf 0 (le premier)\n",
    "x=data[0:21000,1:] \n",
    "label=data[0:21000,0] # prendre le 1er colonne comme les labels (nombre) \n",
    "\n",
    "clf.fit(x,label) \n",
    "\n",
    "xtest=data[21000:,1:] # les donnes qui restent sont pr tester le model  \n",
    "actual_label=data[21000:,0]\n",
    "p=clf.predict(xtest)\n",
    "\n",
    "# Donnees une accuracy de l'apprentissage \n",
    "count=0\n",
    "for i in range(0,21000):\n",
    "    count+=1 if p[i]==actual_label[i] else 0\n",
    "print(\"Accuracy=\",(count/21000)*100)\n",
    "\n",
    "# appliquer le bruit sur 1 ligne \n",
    "d=xtest[5] \n",
    "Nombre_de_pixels_errones=100\n",
    "for i in range(Nombre_de_pixels_errones):\n",
    "    position=np.random.randint(0,784,1)[0]\n",
    "    bruit=np.random.randint(-200,200,1)[0]\n",
    "    d[position]+=bruit\n",
    "    d[position]=d[position]%255\n",
    "print(clf.predict([d]))\n",
    "\n",
    "d.shape=(28,28)\n",
    "plt.imshow(255-d,cmap='gray')\n",
    "plt.show()"
   ]
  },
  {
   "cell_type": "markdown",
   "id": "61e071b3",
   "metadata": {},
   "source": [
    "# 8. la régression Logistique implémenté dans sklearn "
   ]
  },
  {
   "cell_type": "code",
   "execution_count": null,
   "id": "eb25ebef",
   "metadata": {},
   "outputs": [],
   "source": [
    "import numpy as np # chargment de numpy\n",
    "import matplotlib.pyplot as plt # imprt de Matplotlib\n",
    "from sklearn import datasets \n",
    "from sklearn.linear_model import LogisticRegression \n",
    "\n",
    "iris = datasets.load_iris()\n",
    "X = iris.data[:,:2] # avoir un probleme de classification binaire\n",
    "\n",
    "y= [] # re-etiquettage des fleurs pour se retrouver avec deux classes au lieu de trois\n",
    "for e in iris.target:\n",
    "    if e==0: y+=[0]\n",
    "    else: y+=[1]\n",
    "y = np.array(y)\n",
    "\n",
    "plt.figure(figsize=(10,6)) # taille de la figure \n",
    "plt.scatter(X[y==0][:,0],X[y==0][:,1],color='g')\n",
    "# en Vert les fleurs ayant l'etiquette 0 \n",
    "plt.scatter(X[y==1][:,0],X[y==1][:,1],color='y')\n",
    "# en Jaune les fleurs ayant l'etiquette 1\n",
    "plt.legend(labels=(\"classe 0\",\"classe 1\"))\n",
    "plt.xlabel(\"x\")\n",
    "plt.ylabel(\"y\")\n",
    "\n",
    "model = LogisticRegression(C=1e20) # tester avec 0.01\n",
    "x_train,x_test,y_train,y_test = tain_test_split(X,y,test_size=0.2,random_state=0)\n",
    "# la fonction train_test_split melange les donnees avant de faire la repartition \n",
    "# si on fixe random_state sur une valeur precise , on execute sur deux machines differentes \n",
    "# les le melange sera fait de la meme facon sur les deux machines et on obtient les memes test_set\n",
    "model.fit(x_train,y_train)\n",
    "score = cross_val_score(model,x_train,y_train,cv=5,scoring='accuracy')\n",
    "score1 = model.score(x_test,y_test)\n",
    "score2 = model.score(x_train,y_train)\n",
    "print(\"score sur test-set =\"+str(score1*100)+'%')\n",
    "print(\"score sur train-set =\"+str(score2*100)+\"%\")\n",
    "theta0=model.intercept_\n",
    "theta1=model.coef_[0][0]\n",
    "theta1=model.coef_[0][1]\n",
    "Iries_To_Predict = [ [5.5,2.5] , [7,3], [3,2], [5,3] ]\n",
    "# demande de prediction \n",
    "print(model.predict(Iries_To_Predict))\n",
    "score = cross_val_score(model,x_train,y_train,cv=5,scoring=\"accuracy\")\n",
    "print(score)\n",
    "print(score.mean())\n",
    "def fct_reg_logistic(x1,x2):\n",
    "    z=(theta0)+theta1*x1+(theta2*x2)\n",
    "    return(z)\n",
    "print([fct_reg_logistic(e[0],e[1]) for e in Iries_To_Predict])"
   ]
  },
  {
   "cell_type": "markdown",
   "id": "8e902391",
   "metadata": {},
   "source": [
    "# 9. Les arbres de décision  "
   ]
  },
  {
   "cell_type": "code",
   "execution_count": null,
   "id": "3542d609",
   "metadata": {},
   "outputs": [],
   "source": [
    "# importer les dependences\n",
    "import numpy as np \n",
    "import pandas as pd \n",
    "from sklearn.metrics import confusion_matrix\n",
    "from sklearn.tree import DecisionTreeClassifier\n",
    "from sklearn.metrics import * \n",
    "\n",
    "# preparation des donnees \n",
    "data = pd.read_csv(\"url\").as_matrix()\n",
    "print(\"Dataset Length: \", len(data))\n",
    "print(\"Dataset Shape : \", data.shape)\n",
    "print(data)\n",
    "\n",
    "# decouper les donnees \n",
    "X = data[:8,0:3]\n",
    "Y = data[:8,3]\n",
    "X_test = data[8:,0:3]\n",
    "y_test = data[8:,3]\n",
    "\n",
    "# Instanciation de model (CART)+ Apprentissage \n",
    "clf_gini = DecisionTreeClassifier(criterion=\"gini\")\n",
    "clf_gini.fit(X,Y)\n",
    "\n",
    "# Instanciation de model (ID3 or D.C4?) + Apprentissage\n",
    "clf_entropy = DecisionTreeClassifier(criterion=\"entropy\")\n",
    "clf_entropy.fit(X,Y)\n",
    "\n",
    "# les resultats (Gini index)\n",
    "print(\"Results Using Gini Index :\")\n",
    "y_pred_gini = clf_gini.predict(X_test)\n",
    "print(\"Confusion Matrix : \", confusion_matrix(y_test,y_pred_gini))\n",
    "print(X_test,Y_test,y_pred_gini)\n",
    "print(\"Accuracy: \", accuracy_score(Y_test,y_pred_gini)*100)\n",
    "\n",
    "# les resultats (Entropy)\n",
    "print(\"Results using Entropy\")\n",
    "y_pred_entropy = clf_entropy.predict(X_test)\n",
    "print(\"Confusion Matrix : \", confusion_matrix(Y_test,y_pred_entropy))\n",
    "print(\"Accuracy : \" , accuracy_score(Y_test,y_pred_entropy)*100)\n",
    "\n"
   ]
  },
  {
   "cell_type": "code",
   "execution_count": null,
   "id": "bb758616",
   "metadata": {},
   "outputs": [],
   "source": [
    "\n",
    "# chargement des donnees \n",
    "df = pd.read_csv(\"D:\\\\CreaditScoring.csv\")\n",
    "print(df.isnull().sum()) \n",
    "\n",
    "# remplir les cases vides (NaN) par la moyenne \n",
    "df.fillna(value=df.mean(),inplace=True)\n",
    "\n",
    "# afficher autre fois pr verfication \n",
    "print(df.isnull().sum())\n",
    "\n",
    "# importer les dependences \n",
    "from sklearn.model_selection import train_test_split \n",
    "from sklearn.metrics import accuracy_score \n",
    "\n",
    "# removing the features BAD, JOB, REASON \n",
    "x_basic = df.drop(columns=[\"BAD\",\"JOB\",\"REASON\"])\n",
    "y = df[\"BAD\"]\n",
    "\n",
    "# verfier les donnees de x_basic \n",
    "print(x_basic.isnull().summ())\n",
    "x_basic_tr,x_basic_te,y_tr,y_te = train_test_split(x_basic , y , test_size =.33 , random_state=1)\n",
    "\n",
    "# import model + instanciation + apprentissage + prediction \n",
    "from sklearn.tree import DecisionTreeClassifier \n",
    "model = DecisionTreeClassifier()\n",
    "model.fit(x_basic_tr,y_tr)\n",
    "y_pre = model.predict(x_basic_te)\n",
    "\n",
    "a= accuracy_score(y_te , y_pre)\n",
    "print(\"accuracy score : \",a)\n",
    "\n",
    "# affichage et comparaison de resultat \n",
    "X_test = np.array(x_basic_te)\n",
    "Y_test = np.array(y_te) \n",
    "\n",
    "print(X_test[127]) # affichage ligne de test \n",
    "print(model.predict([X_test[127]]),end=' ') # prediction d'un valeur en utilisant une ligne de test \n",
    "print(Y_test[127]) # affichage de la vraie valeur \n",
    "\n"
   ]
  },
  {
   "cell_type": "markdown",
   "id": "d7c66e46",
   "metadata": {},
   "source": [
    "**Les arbres de décision pour la regression**"
   ]
  },
  {
   "cell_type": "code",
   "execution_count": null,
   "id": "2798d83c",
   "metadata": {},
   "outputs": [],
   "source": [
    "from sklearn import tree \n",
    "X = [ [0,0], [2,2] ]\n",
    "Y = [  0.5 ,  2.5  ] # ne sont pas des etiquettes de classes mais des valeurs reelles \n",
    "clf = tree.DecisionTreeRegressor()\n",
    "clf = clf.fit(X,Y)\n",
    "clf.predict([ [1,1] ]) # array([0.5])"
   ]
  },
  {
   "cell_type": "code",
   "execution_count": 15,
   "id": "13e9dfb4",
   "metadata": {},
   "outputs": [
    {
     "data": {
      "image/png": "[encoded data removed]",
      "text/plain": [
       "<Figure size 432x288 with 1 Axes>"
      ]
     },
     "metadata": {
      "needs_background": "light"
     },
     "output_type": "display_data"
    },
    {
     "data": {
      "image/png": "[encoded data removed]",
      "text/plain": [
       "<Figure size 432x288 with 1 Axes>"
      ]
     },
     "metadata": {
      "needs_background": "light"
     },
     "output_type": "display_data"
    },
    {
     "name": "stdout",
     "output_type": "stream",
     "text": [
      "mean_sqaured_error :  0.0\n"
     ]
    }
   ],
   "source": [
    "import numpy as np \n",
    "import matplotlib.pyplot as plt \n",
    "from sklearn.tree import DecisionTreeRegressor \n",
    "from sklearn.metrics import mean_squared_error \n",
    "\n",
    "# creer les donnees d'apprentissage \n",
    "np.random.seed(0)\n",
    "X = np.sort(5*np.random.rand(200,1),axis=0)\n",
    "Y = np.sin(X)\n",
    "plt.plot(X,Y)\n",
    "plt.title(\"courbe de repartition sinusoidale \")\n",
    "\n",
    "# instanciation de modele + apprentissage \n",
    "reg = DecisionTreeRegressor(max_depth=2)\n",
    "reg.fit(X,Y)\n",
    "\n",
    "# test de prediction \n",
    "X_test = np.sort(5*np.random.rand(80,1),axis=0)\n",
    "Y_predicted = np.sin(X_test) # valeurs reelles \n",
    "Y_test = np.sin(X_test)\n",
    "\n",
    "plt.figure()\n",
    "plt.scatter(X, Y, color=\"b\", label=\"Exemples d'apprentissage \")\n",
    "plt.plot(X_test, Y_predicted, color=\"r\", label=\"prediction\", linewidth=3)\n",
    "plt.title(\"Regression par un arbre de decision \")\n",
    "plt.legend()\n",
    "plt.show()\n",
    "a=mean_squared_error(Y_test,Y_predicted)\n",
    "print(\"mean_sqaured_error : \", a)"
   ]
  },
  {
   "cell_type": "markdown",
   "id": "63f6e5ce",
   "metadata": {},
   "source": [
    "# 10. KNN: k Nearest Neighbors"
   ]
  },
  {
   "cell_type": "markdown",
   "id": "fdd2ccfc",
   "metadata": {},
   "source": [
    "**Tutorial Example**"
   ]
  },
  {
   "cell_type": "code",
   "execution_count": 24,
   "id": "3f7d91c4",
   "metadata": {},
   "outputs": [
    {
     "name": "stdout",
     "output_type": "stream",
     "text": [
      "(120, 4)\n",
      "[4.8 3.1 1.6 0.2]\n"
     ]
    },
    {
     "data": {
      "image/png": "[encoded data removed]",
      "text/plain": [
       "<Figure size 432x288 with 1 Axes>"
      ]
     },
     "metadata": {
      "needs_background": "light"
     },
     "output_type": "display_data"
    },
    {
     "name": "stdout",
     "output_type": "stream",
     "text": [
      "[1 2 2 0 0 0 1 0 1 1 0 2 0 0 0 1 2 0 2 1 2 2 0 1 2 2 1 0 0 1]\n",
      "Acc :  1.0\n"
     ]
    }
   ],
   "source": [
    "import numpy as np \n",
    "from sklearn import datasets \n",
    "from sklearn.model_selection import train_test_split \n",
    "import matplotlib.pyplot as plt \n",
    "from matplotlib.colors import ListedColormap\n",
    "\n",
    "iris = datasets.load_iris()\n",
    "X, y = iris.data, iris.target \n",
    "\n",
    "X_train,X_test,y_train,y_test = train_test_split(X,y,test_size=.2)\n",
    "print(X_train.shape)\n",
    "print(X_train[0])\n",
    "\n",
    "colormap = ListedColormap(['b','r','g'])\n",
    "plt.figure()\n",
    "plt.scatter(X[:,0],X[:,1],c=y,cmap=colormap)\n",
    "plt.show()\n",
    "\n",
    "from sklearn.neighbors import KNeighborsClassifier\n",
    "knn = KNeighborsClassifier(n_neighbors=10)\n",
    "knn.fit(X,y)\n",
    "pred = knn.predict(X_test)\n",
    "print(pred)\n",
    "\n",
    "def accu(y_test,pred):\n",
    "    acc = np.sum(y_test == pred)/len(y_test)\n",
    "    return acc\n",
    "\n",
    "print('Acc : ',accu(y_test,pred))"
   ]
  },
  {
   "cell_type": "markdown",
   "id": "38d0dc7b",
   "metadata": {},
   "source": [
    "**Cours exp**"
   ]
  },
  {
   "cell_type": "code",
   "execution_count": 25,
   "id": "1b11e11a",
   "metadata": {},
   "outputs": [
    {
     "name": "stdout",
     "output_type": "stream",
     "text": [
      "KNN predefinie-classification :  [1]\n",
      "KNN predefinie-regression :  [6.46333333]\n"
     ]
    }
   ],
   "source": [
    "# preparation des donnees \n",
    "X = [[0],[1],[2],[3]]\n",
    "y1 = [0,0,1,1]\n",
    "\n",
    "# chargement de model knn pr la classification\n",
    "from sklearn.neighbors import KNeighborsClassifier\n",
    "\n",
    "# instanciation de model \n",
    "# valeur de k pr knn et choix de la distance \n",
    "neigh = KNeighborsClassifier(n_neighbors=3,metric=\"euclidean\")\n",
    "\n",
    "# apprentissage \n",
    "neigh.fit(X,y1)\n",
    "\n",
    "# prediction using classification model\n",
    "print(\"KNN predefinie-classification : \",neigh.predict([[2.1]]))\n",
    "\n",
    "\n",
    "##### \n",
    "# chargement de model pr la regression \n",
    "from sklearn.neighbors import KNeighborsRegressor\n",
    "knn_regression = KNeighborsRegressor(3)\n",
    "y2 = [15.3,8.6,6.5,4.29]\n",
    "\n",
    "# apprentissage \n",
    "knn_regression.fit(X,y2)\n",
    "\n",
    "# predicition using regression model \n",
    "print(\"KNN predefinie-regression : \", knn_regression.predict([[2.1]]))"
   ]
  },
  {
   "cell_type": "code",
   "execution_count": null,
   "id": "442b4ec9",
   "metadata": {},
   "outputs": [],
   "source": [
    "from sklearn.neighbors import KNeighborsClassifier\n",
    "from sklearn.model_selection import GridSearchCV,train_test_split\n",
    "\n",
    "# preparation des donnees \n",
    "data = pandas.read_csv(\"url\")\n",
    "data = np.array(data)\n",
    "x = data[0:1000,1:]\n",
    "y = data[0:1000,0]\n",
    "x_train,x_test,y_train,y_test = train_test_split(x,y,test_size=.2,random_state=0)\n",
    "\n",
    "# instanciation + apprentissage \n",
    "model = KNeighborsClassifier(n_neighbors=5,metric='manhattan')\n",
    "model.fit(x_train,y_train)\n",
    "\n",
    "# score \n",
    "score = model.score(x_test,y_test)\n",
    "print(\"score sur test-set par k=5 --> \"+str(score*100)+'%')\n",
    "\n",
    "# ensemble des distances et k values et parameters\n",
    "distances = ['euclidean','manhattan']\n",
    "valeurs_de_k = np.arange(1,8)\n",
    "parameters_grid = {\"n_neighbors\":valeurs_de_k,\"metric\":distances}\n",
    "\n",
    "model = KNeighborsClassifier()\n",
    "grid = GridSearchCV(model,parameters_grid,cv=3,scoring='accuracy')\n",
    "grid.fit(x_train,y_train)\n",
    "print(\"best parameters :\", grid.best_params_)\n",
    "\n",
    "model =grid.best_estimator_\n",
    "model.fit(x_train,y_train)\n",
    "score = model.score(x_test,y_test)\n",
    "print(\"score sur test-set-parameters automatiques \"+ str(score*100)+'%')"
   ]
  },
  {
   "cell_type": "markdown",
   "id": "097f0522",
   "metadata": {},
   "source": [
    "# 11. Représentation des données textuelles"
   ]
  },
  {
   "cell_type": "markdown",
   "id": "c30ef743",
   "metadata": {},
   "source": [
    "**Matrice sparse binaire: CountVectorizer(binary=True)**"
   ]
  },
  {
   "cell_type": "code",
   "execution_count": 27,
   "id": "98094a52",
   "metadata": {},
   "outputs": [
    {
     "name": "stdout",
     "output_type": "stream",
     "text": [
      "dictionnaire_des_mots : {'la': 3, 'vie': 5, 'est': 2, 'douce': 1, 'tranquille': 4, 'belle': 0}\n",
      "liste_des_motes :  ['la', 'vie', 'est', 'douce', 'tranquille', 'belle']\n",
      "Matrice_sparse_correspondante:\n",
      " [[0 1 1 1 0 1]\n",
      " [1 1 1 1 1 1]]\n"
     ]
    }
   ],
   "source": [
    "from sklearn.feature_extraction.text import CountVectorizer \n",
    "\n",
    "# preparation des donnees \n",
    "texte = [\"la vie est douce\",\"la vie est tranquille , est belle , est douce \"]\n",
    "vect = CountVectorizer(binary=True)\n",
    "T = vect.fit_transform(texte)\n",
    "dictionnaire_des_mots = vect.vocabulary_\n",
    "print(\"dictionnaire_des_mots :\", dictionnaire_des_mots)\n",
    "liste_des_mots=list(dictionnaire_des_mots.keys())\n",
    "print(\"liste_des_motes : \",liste_des_mots)\n",
    "Matrice_sparse_correspondante=T.toarray()\n",
    "print(\"Matrice_sparse_correspondante:\\n\",Matrice_sparse_correspondante)"
   ]
  },
  {
   "cell_type": "code",
   "execution_count": null,
   "id": "22dcf26a",
   "metadata": {},
   "outputs": [],
   "source": [
    "import string \n",
    "import nltk # import Natural Language Toolkit library \n",
    "nltk.download('stopwords') # download stopwords corpus from nltk containing a list of stop words \n",
    "from nltk.corpus import stopwords # import stopwords corpus from teh nltk\n",
    "\n",
    "# functions to take a list of documents \n",
    "def netyage(corpus_ensemble_documents):\n",
    "    \n",
    "    # converts the documents to lowercase\n",
    "    for i in range(len(corpus_ensemble_documents)):\n",
    "        corpus_ensemble_documents[i] = corpus_ensemble_documents[i].lower()\n",
    "    # replace punctuation characters with a space \n",
    "    for i in range(len(corpus_ensemble_documents)):\n",
    "        for c in string.punctuation:\n",
    "            x = corpus_ensemble_documents[i].replace(c,' ')\n",
    "            corpus_ensemble_documents[i] = x \n",
    "    \n",
    "    # remove stop words from the document using the stopwords_anglais \n",
    "    stopwords_anglais = stopwords.words('english')\n",
    "    for i in range(len(corpus_ensemble_documents)):\n",
    "        L = corpus_ensemble_documents[i].split()\n",
    "        for mot in L:\n",
    "            if mot in stopwords_anglais:\n",
    "                while mot in L:\n",
    "                    L.remove(mot)\n",
    "        # join the remaining words in the document \n",
    "        corpus_ensemble_documents[i]=\" \".join(L)\n",
    "    return(corpus_ensemble_documents)"
   ]
  },
  {
   "cell_type": "code",
   "execution_count": null,
   "id": "3abdf099",
   "metadata": {},
   "outputs": [],
   "source": [
    "from numpy import *\n",
    "\n",
    "def TF(terme,corpus,numero_document):\n",
    "    x=corpus[numero_document].count(terme)\n",
    "    y=len(corpus[numero_document].split())\n",
    "    return x/y \n",
    "\n",
    "def IDF(terme,corpus,numero_document):\n",
    "    D=len(corpus)\n",
    "    d_t=0\n",
    "    for document in corpus:\n",
    "        if terme in document:\n",
    "            d_t+=1\n",
    "    TF_val=TF(terme,corpus,numero_document)\n",
    "    return TF_val*log(1+(D/d_t))\n",
    "\n",
    "def cles_correspondante_a_valeur(valeur,dictionnaire):\n",
    "    for cle in dictionnaire.keys():\n",
    "        if dictionnaire[cle]==valeur: \n",
    "            return cle \n",
    "\n",
    "        \n",
    "def matrice_sparse(dictionnaire,corpus_ensemble_documents):\n",
    "    M=numpy.zeros((len(corpus_ensemble_documents),len(dictionnaire.values())))\n",
    "    \n",
    "    for i in range(len(corpus_ensemble_documents)):\n",
    "        for j in dictionnaire.values():\n",
    "            x=cles_correspondante_a_valeur(j,dictionnaire)\n",
    "            M[i,j]=IDF(x,corpus_ensemble_documents,i)\n",
    "    return M \n",
    "\n",
    "\n",
    "def affiche(M):\n",
    "    (n,p)=M.shape\n",
    "    for i in range(n):\n",
    "        for j in range(p):\n",
    "            M[i,j]=round(M[i,j],2) \n",
    "    print(M) \n",
    "\n"
   ]
  },
  {
   "cell_type": "code",
   "execution_count": null,
   "id": "8c59141d",
   "metadata": {},
   "outputs": [],
   "source": [
    "from sklearn.feature_extraction.text import TfidfVectorizer\n",
    "import nitk texte = [\"La vie est douce\",\"La vie est tranquille, est belle, est douce\", \"le corona-virus est mechant\"] \n",
    "\n",
    "texte=netoyage(texte)\n",
    "vect = TfidfVectorizer()\n",
    "T= vect.fit_transform(texte)\n",
    "dictionnaire_des_mots=vect.vocabulary_ \n",
    "print(\"dictionnaire_des_mots :\", dictionnaire_des_mots)\n",
    "liste_des_mots=list(dictionnaire_des_mots.keys())\n",
    "print(\"liste_des_mots :\", liste_des_mots)\n",
    "Matrice_sparse_correspondante=T.toarray()\n",
    "print(\"Hatrice_sparse_methode predefinie:\\n\")\n",
    "affiche(Matrice_sparse_correspondante)\n",
    "#on donne un poid important aux tokens qui apparaissent souvent dans un \n",
    "#document en particuLier mais pas dans tous Les documents du corpus \n",
    "print(\"Hatrice_sparse obtenue par notre methode:\\n\")\n",
    "affiche(matrice_sparse(dictionnaire_des_mots,texte)) \n"
   ]
  },
  {
   "cell_type": "code",
   "execution_count": null,
   "id": "b172348e",
   "metadata": {},
   "outputs": [],
   "source": [
    "import numpy as np\n",
    "import pandas\n",
    "\n",
    "spams = pandas.read_table(\"D:\\\\SMSSpamCollection.txt\",sep=\"\\t\",header=0)\n",
    "spamsTrain, spamsTest = train_test_split(spams,train_size=0.7,random_state=1)\n",
    "\n",
    "from sklearn.feature_extraction.text import CountVectorizer\n",
    "parseur = CountVectorizer()\n",
    "XTrain = parseur.fit_transform(spamsTrain['message']) \n",
    "mdtTrain = XTrain.toarray()\n",
    "\n",
    "from sklearn.linear_model import LogisticRegression\n",
    "modelFirst= LogisticRegression()\n",
    "#essayer cette version, pourquoi ca ne marche pas ? \n",
    "#modeLFirst.fit(spamsTrain['messages],spamsTrain['cLasse'] \n",
    "modelFirst.fit(mdtTrain,spamsTrainrclassel)\n",
    "scorel=modelFirst.score(mdtTrain, spamsTrain['classe'])\n",
    "print(\"score sur data train:\"+str(scorel)) \n",
    "mdtTest = parseur.transform(spamsTest['message']) \n",
    "#predTest = modelfirst.predict(mdtTest) \n",
    "score2=modelFirst.score(mdtTest, spamsTest['classe']) \n",
    "print(\"score sur data test:\"+str(score2)) \n"
   ]
  },
  {
   "cell_type": "code",
   "execution_count": null,
   "id": "092b0c83",
   "metadata": {},
   "outputs": [],
   "source": [
    "from sklearn import metrics\n",
    "\n",
    "parseurBis = CountVectorizer(stop_words='english')\n",
    "XTrainBis = parseurBis.fit_transform(spamsTrain['message'])\n",
    "mdtTrainBis = XTrainBis.toarray()\n",
    "modelBis = LogisticRegression()\n",
    "modelBis.fit(mdtTrainBis,spamsTrain['classe'])\n",
    "mdtTestBis = parseurBis.transform(spamsTest['message'])\n",
    "score3=modelBis.score(mdtTrainBis, spamsTrain['classe'])\n",
    "print(\"score sur data train:\"+str(score3))\n",
    "score4=modelBis.score(mdtTestBis, spamsTest['classe'])\n",
    "print(\"score sur data test:\"+str(score4)) \n"
   ]
  },
  {
   "cell_type": "code",
   "execution_count": null,
   "id": "71abc758",
   "metadata": {},
   "outputs": [],
   "source": [
    "from sklearn.feature_extraction.text import TfidfVectorizer\n",
    "from sklearn import metrics \n",
    "parseur3 = TfidfVectorizer()\n",
    "XTrain3 = parseur3.fit_transform(spamsTrain['message'])\n",
    "mdtTrain3 = XTrain3.toarray()\n",
    "model3 = LogisticRegression()\n",
    "model3.fit(mdtTrain3IspamsTrain['classe'])\n",
    "mdtTest3 = parseur3.transform(spamsTest['message'])\n",
    "score5=model3.score(mdtTrain3, spamsTrain['classe'])\n",
    "print(\"score sur data train:\"+str(score5)) \n",
    "score6=mode13.score(mdtTest3, spamsTest['classe'])\n",
    "print(\"score sur data test:\"+str(score6)) \n"
   ]
  },
  {
   "cell_type": "markdown",
   "id": "7033de62",
   "metadata": {},
   "source": [
    "# 12. les interfaces graphiques  "
   ]
  },
  {
   "cell_type": "code",
   "execution_count": null,
   "id": "85f0219e",
   "metadata": {},
   "outputs": [],
   "source": [
    "from tkinter import * \n",
    "fenetre=Tk()\n",
    "\n",
    "fenetre.geometry('200x100') # definition des dimensions de la fenetre 200x1000\n",
    "label = Label(fenetre,text=\"Bonjour Master M1 Bienvenue!\",fg=\"red\",bg='yellow')\n",
    "label.pack() # affichage du label\n",
    "bouton=Button(fenetre, text=\"Fermer\", command=fenetre.destroy)\n",
    "bouton.pack() # affichage du bouton\n",
    "\n",
    "fenetre.mainloop()\n",
    "# est très importante pr demarrage des evenements ..."
   ]
  },
  {
   "cell_type": "code",
   "execution_count": null,
   "id": "f31c9e84",
   "metadata": {},
   "outputs": [],
   "source": [
    "from tkinter import *\n",
    "\n",
    "fenetre = Tk()\n",
    "\n",
    "CheckVar1 = StringVar()\n",
    "CheckVar2 = StringVar()\n",
    "CheckVar3 = StringVar()\n",
    "\n",
    "bouton = Checkbutton(fenetre, text=\"Etudiant\",variable = CheckVar1,onvalue =\"oui\", offvalue = \"non\")\n",
    "bouton.pack()\n",
    "\n",
    "bouton2 = Checkbutton(fenetre, text=\"Master BABD M1\", variable = CheckVar2,onvalue =\"oui\", offvalue = \"non\")\n",
    "bouton2.pack()\n",
    "\n",
    "bouton3 = Checkbutton(fenetre, text=\"Master MSI M1\", variable = CheckVar3,onvalue =\"oui\", offvalue = \"non\")\n",
    "bouton3.pack()\n",
    "\n",
    "def fonction1():\n",
    "    ch=\"Tu es \"\n",
    "    \n",
    "    if(CheckVar1.get()==\"oui\"):ch+=\"Etudiant\"\n",
    "        \n",
    "    if(CheckVar2.get()==\"oui\"):ch+=\" En Master BABD M1 \"\n",
    "        \n",
    "    if(CheckVar3.get()==\"oui\"):ch+=\" En Master MSI M1 \"\n",
    "        \n",
    "    label2=Label(fenetre, text=ch)\n",
    "    label2.pack()\n",
    "    \n",
    "    bouton4=Button(fenetre, text=\"Afficher\", command=fonction1)\n",
    "    bouton4.pack();\n",
    "    \n",
    "fenetre.mainloop()"
   ]
  },
  {
   "cell_type": "code",
   "execution_count": null,
   "id": "4a9b71b5",
   "metadata": {},
   "outputs": [],
   "source": [
    "fenetre = Tk()\n",
    "\n",
    "value = StringVar()\n",
    "\n",
    "bouton1 = Radiobutton(fenetre, text=\"Oui\", variable=value, value=1)\n",
    "\n",
    "bouton2 = Radiobutton(fenetre, text=\"Non\", variable=value, value=2)\n",
    "\n",
    "bouton3 = Radiobutton(fenetre, text=\"Peu être\", variable=value, value=3)\n",
    "\n",
    "bouton1.pack()\n",
    "\n",
    "bouton2.pack()\n",
    "\n",
    "bouton3.pack()\n",
    "\n",
    "fenetre.mainloop()"
   ]
  },
  {
   "cell_type": "code",
   "execution_count": null,
   "id": "a6112735",
   "metadata": {},
   "outputs": [],
   "source": [
    "from tkinter import *\n",
    "\n",
    "fenetre = Tk()\n",
    "fenetre['bg']='white'\n",
    "\n",
    "# frame 1\n",
    "Frame1 = Frame(fenetre, borderwidth=2, relief=GROOVE)\n",
    "Frame1.pack(side=LEFT, padx=30, pady=30)\n",
    "\n",
    "# frame 2\n",
    "Frame2 = Frame(fenetre, borderwidth=2, relief=GROOVE)\n",
    "Frame2.pack(side=LEFT, padx=10, pady=10)\n",
    "\n",
    "# frame 3 dans frame 2\n",
    "Frame3 = Frame(Frame2, bg=\"white\", borderwidth=2, relief=GROOVE)\n",
    "Frame3.pack(side=RIGHT, padx=5, pady=5)\n",
    "\n",
    "# Ajout de labels\n",
    "Label(Frame1, text=\"Frame 1\").pack(padx=10, pady=10)\n",
    "Label(Frame2, text=\"Frame 2\").pack(padx=10, pady=10)\n",
    "Label(Frame3, text=\"Frame 3\",bg=\"white\").pack(padx=10, pady=10)\n",
    "\n",
    "fenetre.mainloop()"
   ]
  },
  {
   "cell_type": "code",
   "execution_count": null,
   "id": "d431dac9",
   "metadata": {},
   "outputs": [],
   "source": [
    "from tkinter import *\n",
    "\n",
    "root = Tk()\n",
    "root.title('Frames')\n",
    "\n",
    "for r in [RAISED, SUNKEN, FLAT, RIDGE, GROOVE, SOLID]:\n",
    "    f = Frame(root, borderwidth=2, relief=r)\n",
    "    Label(f, text=r, width=10).pack(side=LEFT)\n",
    "    f.pack(side=LEFT, padx=5, pady=5)\n",
    "    \n",
    "root.mainloop()"
   ]
  },
  {
   "cell_type": "code",
   "execution_count": null,
   "id": "3e34fcce",
   "metadata": {},
   "outputs": [],
   "source": [
    "from tkinter import *\n",
    "\n",
    "fenetre=Tk()\n",
    "\n",
    "cadre=Frame(fenetre, width=50, height=30, borderwidth=1)\n",
    "cadre.pack()\n",
    "\n",
    "indication_nom=Label(cadre, text=\"Saisissez votre nom:\" )\n",
    "indication_nom.pack()\n",
    "\n",
    "nom=StringVar()\n",
    "nom=Entry(cadre, textvariable=nom, width=50)\n",
    "nom.pack() \n",
    "\n",
    "def fonctionl():\n",
    "    Texte=nom.get()\n",
    "    label2=Label(cadre, text=\"vous avez ecrit: \"+Texte)\n",
    "    labe12.pack()\n",
    "    bouton=Button(fenetre, text=\"Afficher\", command=fonctionl)\n",
    "    bouton.pack()\n",
    "    \n",
    "fenetre.mainloop() \n"
   ]
  },
  {
   "cell_type": "code",
   "execution_count": null,
   "id": "54792b88",
   "metadata": {},
   "outputs": [],
   "source": [
    "from tkinter import *\n",
    "\n",
    "fenetre = Tk()\n",
    "\n",
    "liste = Listbox(fenetre)\n",
    "liste.insert(1, \"Python\")\n",
    "liste.insert(2, \"PHP\")\n",
    "liste.insert(3, \"jQuery\")\n",
    "liste.insert(4, \"CSS\")\n",
    "liste.insert(5, \"Javascript\")\n",
    "liste.pack()\n",
    "\n",
    "fenetre.mainloop()"
   ]
  }
 ],
 "metadata": {
  "kernelspec": {
   "display_name": "Python 3 (ipykernel)",
   "language": "python",
   "name": "python3"
  },
  "language_info": {
   "codemirror_mode": {
    "name": "ipython",
    "version": 3
   },
   "file_extension": ".py",
   "mimetype": "text/x-python",
   "name": "python",
   "nbconvert_exporter": "python",
   "pygments_lexer": "ipython3",
   "version": "3.9.12"
  }
 },
 "nbformat": 4,
 "nbformat_minor": 5
}
